{
  "nbformat": 4,
  "nbformat_minor": 0,
  "metadata": {
    "colab": {
      "name": "INFO 370: Homework 7.ipynb",
      "provenance": [],
      "include_colab_link": true
    },
    "kernelspec": {
      "name": "python3",
      "display_name": "Python 3"
    }
  },
  "cells": [
    {
      "cell_type": "markdown",
      "metadata": {
        "id": "view-in-github",
        "colab_type": "text"
      },
      "source": [
        "<a href=\"https://colab.research.google.com/github/Maddic9/stunning-meme/blob/master/INFO_370_Homework_7.ipynb\" target=\"_parent\"><img src=\"https://colab.research.google.com/assets/colab-badge.svg\" alt=\"Open In Colab\"/></a>"
      ]
    },
    {
      "cell_type": "markdown",
      "metadata": {
        "id": "AKjG7-YZ0jAj",
        "colab_type": "text"
      },
      "source": [
        "#INFO370 Problem Set 7: Bag-of-words, and k-NN\n",
        "####Larissa Ho, Madeline Cummins, Michelle Chen"
      ]
    },
    {
      "cell_type": "markdown",
      "metadata": {
        "id": "KvwapUkU1Cg4",
        "colab_type": "text"
      },
      "source": [
        "##1 Explore the data"
      ]
    },
    {
      "cell_type": "code",
      "metadata": {
        "id": "tIKhbb8B1y_4",
        "colab_type": "code",
        "colab": {}
      },
      "source": [
        "import pandas as pd\n",
        "import numpy as np\n",
        "import matplotlib.pyplot as plt\n",
        "from sklearn.feature_extraction.text import CountVectorizer"
      ],
      "execution_count": 0,
      "outputs": []
    },
    {
      "cell_type": "markdown",
      "metadata": {
        "id": "MoRPYoUi1JvE",
        "colab_type": "text"
      },
      "source": [
        "1. Load the data. You may drop size, lines, and pagenr"
      ]
    },
    {
      "cell_type": "code",
      "metadata": {
        "id": "dINSwzQo1K0G",
        "colab_type": "code",
        "outputId": "d18e4b6f-7c85-4549-93d0-fd74242d0593",
        "colab": {
          "base_uri": "https://localhost:8080/",
          "height": 230
        }
      },
      "source": [
        "!wget https://raw.githubusercontent.com/aj-22/IMT370/master/data/texts.csv\n",
        "\n",
        "df=pd.read_csv(r'/content/texts.csv', sep='\\t', usecols = ['name', 'text'])"
      ],
      "execution_count": 10,
      "outputs": [
        {
          "output_type": "stream",
          "text": [
            "--2020-03-09 18:35:55--  https://raw.githubusercontent.com/aj-22/IMT370/master/data/texts.csv\n",
            "Resolving raw.githubusercontent.com (raw.githubusercontent.com)... 151.101.0.133, 151.101.64.133, 151.101.128.133, ...\n",
            "Connecting to raw.githubusercontent.com (raw.githubusercontent.com)|151.101.0.133|:443... connected.\n",
            "HTTP request sent, awaiting response... 200 OK\n",
            "Length: 16476212 (16M) [text/plain]\n",
            "Saving to: ‘texts.csv.1’\n",
            "\n",
            "texts.csv.1         100%[===================>]  15.71M  93.0MB/s    in 0.2s    \n",
            "\n",
            "2020-03-09 18:35:55 (93.0 MB/s) - ‘texts.csv.1’ saved [16476212/16476212]\n",
            "\n"
          ],
          "name": "stdout"
        }
      ]
    },
    {
      "cell_type": "code",
      "metadata": {
        "id": "pdayxSmr1rCW",
        "colab_type": "code",
        "outputId": "84a1ffad-312d-4467-b2b0-12b5ed462e42",
        "colab": {
          "base_uri": "https://localhost:8080/",
          "height": 195
        }
      },
      "source": [
        "df.head()"
      ],
      "execution_count": 11,
      "outputs": [
        {
          "output_type": "execute_result",
          "data": {
            "text/html": [
              "<div>\n",
              "<style scoped>\n",
              "    .dataframe tbody tr th:only-of-type {\n",
              "        vertical-align: middle;\n",
              "    }\n",
              "\n",
              "    .dataframe tbody tr th {\n",
              "        vertical-align: top;\n",
              "    }\n",
              "\n",
              "    .dataframe thead th {\n",
              "        text-align: right;\n",
              "    }\n",
              "</style>\n",
              "<table border=\"1\" class=\"dataframe\">\n",
              "  <thead>\n",
              "    <tr style=\"text-align: right;\">\n",
              "      <th></th>\n",
              "      <th>name</th>\n",
              "      <th>text</th>\n",
              "    </tr>\n",
              "  </thead>\n",
              "  <tbody>\n",
              "    <tr>\n",
              "      <th>0</th>\n",
              "      <td>balbulus-early-life-charlemagne</td>\n",
              "      <td>\\nTitle: Early Lives of Charlemagne by Eginhar...</td>\n",
              "    </tr>\n",
              "    <tr>\n",
              "      <th>1</th>\n",
              "      <td>balbulus-early-life-charlemagne</td>\n",
              "      <td>\\n\\nThe notes, keyed to line numbers in the so...</td>\n",
              "    </tr>\n",
              "    <tr>\n",
              "      <th>2</th>\n",
              "      <td>balbulus-early-life-charlemagne</td>\n",
              "      <td>\\n         From a bronze statuette in the Musé...</td>\n",
              "    </tr>\n",
              "    <tr>\n",
              "      <th>3</th>\n",
              "      <td>balbulus-early-life-charlemagne</td>\n",
              "      <td>\\n                _A lui finit la dissolution ...</td>\n",
              "    </tr>\n",
              "    <tr>\n",
              "      <th>4</th>\n",
              "      <td>balbulus-early-life-charlemagne</td>\n",
              "      <td>public opinion in regard to the meaning of fal...</td>\n",
              "    </tr>\n",
              "  </tbody>\n",
              "</table>\n",
              "</div>"
            ],
            "text/plain": [
              "                              name                                               text\n",
              "0  balbulus-early-life-charlemagne  \\nTitle: Early Lives of Charlemagne by Eginhar...\n",
              "1  balbulus-early-life-charlemagne  \\n\\nThe notes, keyed to line numbers in the so...\n",
              "2  balbulus-early-life-charlemagne  \\n         From a bronze statuette in the Musé...\n",
              "3  balbulus-early-life-charlemagne  \\n                _A lui finit la dissolution ...\n",
              "4  balbulus-early-life-charlemagne  public opinion in regard to the meaning of fal..."
            ]
          },
          "metadata": {
            "tags": []
          },
          "execution_count": 11
        }
      ]
    },
    {
      "cell_type": "code",
      "metadata": {
        "id": "6WmenqDx2uv4",
        "colab_type": "code",
        "outputId": "dc619ac0-f513-4887-831f-2e158c3930f5",
        "colab": {
          "base_uri": "https://localhost:8080/",
          "height": 34
        }
      },
      "source": [
        "df.shape"
      ],
      "execution_count": 12,
      "outputs": [
        {
          "output_type": "execute_result",
          "data": {
            "text/plain": [
              "(12924, 2)"
            ]
          },
          "metadata": {
            "tags": []
          },
          "execution_count": 12
        }
      ]
    },
    {
      "cell_type": "markdown",
      "metadata": {
        "id": "V19eTOrJ2K6X",
        "colab_type": "text"
      },
      "source": [
        "2. Ensure that you don't have any missing name, and empty text in your data."
      ]
    },
    {
      "cell_type": "code",
      "metadata": {
        "id": "Z4tzURHI2Lnr",
        "colab_type": "code",
        "outputId": "8e24e4d9-e125-4620-be60-28390c7c86dd",
        "colab": {
          "base_uri": "https://localhost:8080/",
          "height": 70
        }
      },
      "source": [
        "df.isna().sum()"
      ],
      "execution_count": 13,
      "outputs": [
        {
          "output_type": "execute_result",
          "data": {
            "text/plain": [
              "name    0\n",
              "text    1\n",
              "dtype: int64"
            ]
          },
          "metadata": {
            "tags": []
          },
          "execution_count": 13
        }
      ]
    },
    {
      "cell_type": "markdown",
      "metadata": {
        "id": "JGlLdJYA25VU",
        "colab_type": "text"
      },
      "source": [
        "3. Create a summary table where you show how many chunks of each book you have in data. Order\n",
        "this by size."
      ]
    },
    {
      "cell_type": "code",
      "metadata": {
        "id": "HAG1qXpr3AUT",
        "colab_type": "code",
        "outputId": "69585be9-7c68-4044-860c-8ccdb1fcd3d6",
        "colab": {
          "base_uri": "https://localhost:8080/",
          "height": 298
        }
      },
      "source": [
        "df.name.unique()"
      ],
      "execution_count": 14,
      "outputs": [
        {
          "output_type": "execute_result",
          "data": {
            "text/plain": [
              "array(['balbulus-early-life-charlemagne', 'beesly-queen-elizabeth',\n",
              "       'bible', 'carroll-alice-wonderland',\n",
              "       'chipman-earliest-electromagnetic-instruments',\n",
              "       'cia-world-factbook-1992', 'eckstein-quintus-claudius',\n",
              "       'fisher-quaker-colonies', 'gallienne-quest-of-golden-girl',\n",
              "       'gordon-quiet-talks-crowned-christ', 'hardy-madding-crowd',\n",
              "       'infiltrating-open-systems', 'kant-metaphysical-elements-ethics',\n",
              "       'karn-snowflakes', 'milton-paradise-lost',\n",
              "       'naval-academy-sound-military-decision', 'newsgroup',\n",
              "       'paper-compact-hash-tables', 'paper-data-compression',\n",
              "       'paper-logical-implementation-of-arithmetic',\n",
              "       'paper-programming-by-example', 'paper-search-for-autonomy',\n",
              "       'selected-polish-tales', 'shakespeare-as-you-like-it',\n",
              "       'unamuno-tragic-sense-of-life', 'vaneeden-quest',\n",
              "       'webster-early-european-history', 'why-speech-output',\n",
              "       'workshop-proceedings'], dtype=object)"
            ]
          },
          "metadata": {
            "tags": []
          },
          "execution_count": 14
        }
      ]
    },
    {
      "cell_type": "code",
      "metadata": {
        "id": "4txkxE4V3P-7",
        "colab_type": "code",
        "outputId": "ff0fdfe7-6b0a-40e6-cc61-862d1f4e0cd9",
        "colab": {
          "base_uri": "https://localhost:8080/",
          "height": 935
        }
      },
      "source": [
        "df.groupby(\"name\").count().sort_values(by = 'text', ascending=False)"
      ],
      "execution_count": 19,
      "outputs": [
        {
          "output_type": "execute_result",
          "data": {
            "text/html": [
              "<div>\n",
              "<style scoped>\n",
              "    .dataframe tbody tr th:only-of-type {\n",
              "        vertical-align: middle;\n",
              "    }\n",
              "\n",
              "    .dataframe tbody tr th {\n",
              "        vertical-align: top;\n",
              "    }\n",
              "\n",
              "    .dataframe thead th {\n",
              "        text-align: right;\n",
              "    }\n",
              "</style>\n",
              "<table border=\"1\" class=\"dataframe\">\n",
              "  <thead>\n",
              "    <tr style=\"text-align: right;\">\n",
              "      <th></th>\n",
              "      <th>text</th>\n",
              "    </tr>\n",
              "    <tr>\n",
              "      <th>name</th>\n",
              "      <th></th>\n",
              "    </tr>\n",
              "  </thead>\n",
              "  <tbody>\n",
              "    <tr>\n",
              "      <th>cia-world-factbook-1992</th>\n",
              "      <td>2822</td>\n",
              "    </tr>\n",
              "    <tr>\n",
              "      <th>bible</th>\n",
              "      <td>1321</td>\n",
              "    </tr>\n",
              "    <tr>\n",
              "      <th>webster-early-european-history</th>\n",
              "      <td>1265</td>\n",
              "    </tr>\n",
              "    <tr>\n",
              "      <th>vaneeden-quest</th>\n",
              "      <td>864</td>\n",
              "    </tr>\n",
              "    <tr>\n",
              "      <th>hardy-madding-crowd</th>\n",
              "      <td>723</td>\n",
              "    </tr>\n",
              "    <tr>\n",
              "      <th>why-speech-output</th>\n",
              "      <td>680</td>\n",
              "    </tr>\n",
              "    <tr>\n",
              "      <th>selected-polish-tales</th>\n",
              "      <td>534</td>\n",
              "    </tr>\n",
              "    <tr>\n",
              "      <th>unamuno-tragic-sense-of-life</th>\n",
              "      <td>519</td>\n",
              "    </tr>\n",
              "    <tr>\n",
              "      <th>naval-academy-sound-military-decision</th>\n",
              "      <td>485</td>\n",
              "    </tr>\n",
              "    <tr>\n",
              "      <th>milton-paradise-lost</th>\n",
              "      <td>466</td>\n",
              "    </tr>\n",
              "    <tr>\n",
              "      <th>eckstein-quintus-claudius</th>\n",
              "      <td>445</td>\n",
              "    </tr>\n",
              "    <tr>\n",
              "      <th>newsgroup</th>\n",
              "      <td>438</td>\n",
              "    </tr>\n",
              "    <tr>\n",
              "      <th>workshop-proceedings</th>\n",
              "      <td>327</td>\n",
              "    </tr>\n",
              "    <tr>\n",
              "      <th>gordon-quiet-talks-crowned-christ</th>\n",
              "      <td>291</td>\n",
              "    </tr>\n",
              "    <tr>\n",
              "      <th>beesly-queen-elizabeth</th>\n",
              "      <td>285</td>\n",
              "    </tr>\n",
              "    <tr>\n",
              "      <th>gallienne-quest-of-golden-girl</th>\n",
              "      <td>261</td>\n",
              "    </tr>\n",
              "    <tr>\n",
              "      <th>fisher-quaker-colonies</th>\n",
              "      <td>197</td>\n",
              "    </tr>\n",
              "    <tr>\n",
              "      <th>balbulus-early-life-charlemagne</th>\n",
              "      <td>192</td>\n",
              "    </tr>\n",
              "    <tr>\n",
              "      <th>shakespeare-as-you-like-it</th>\n",
              "      <td>180</td>\n",
              "    </tr>\n",
              "    <tr>\n",
              "      <th>carroll-alice-wonderland</th>\n",
              "      <td>157</td>\n",
              "    </tr>\n",
              "    <tr>\n",
              "      <th>karn-snowflakes</th>\n",
              "      <td>88</td>\n",
              "    </tr>\n",
              "    <tr>\n",
              "      <th>infiltrating-open-systems</th>\n",
              "      <td>76</td>\n",
              "    </tr>\n",
              "    <tr>\n",
              "      <th>kant-metaphysical-elements-ethics</th>\n",
              "      <td>72</td>\n",
              "    </tr>\n",
              "    <tr>\n",
              "      <th>chipman-earliest-electromagnetic-instruments</th>\n",
              "      <td>60</td>\n",
              "    </tr>\n",
              "    <tr>\n",
              "      <th>paper-data-compression</th>\n",
              "      <td>55</td>\n",
              "    </tr>\n",
              "    <tr>\n",
              "      <th>paper-search-for-autonomy</th>\n",
              "      <td>48</td>\n",
              "    </tr>\n",
              "    <tr>\n",
              "      <th>paper-compact-hash-tables</th>\n",
              "      <td>45</td>\n",
              "    </tr>\n",
              "    <tr>\n",
              "      <th>paper-logical-implementation-of-arithmetic</th>\n",
              "      <td>14</td>\n",
              "    </tr>\n",
              "    <tr>\n",
              "      <th>paper-programming-by-example</th>\n",
              "      <td>13</td>\n",
              "    </tr>\n",
              "  </tbody>\n",
              "</table>\n",
              "</div>"
            ],
            "text/plain": [
              "                                              text\n",
              "name                                              \n",
              "cia-world-factbook-1992                       2822\n",
              "bible                                         1321\n",
              "webster-early-european-history                1265\n",
              "vaneeden-quest                                 864\n",
              "hardy-madding-crowd                            723\n",
              "why-speech-output                              680\n",
              "selected-polish-tales                          534\n",
              "unamuno-tragic-sense-of-life                   519\n",
              "naval-academy-sound-military-decision          485\n",
              "milton-paradise-lost                           466\n",
              "eckstein-quintus-claudius                      445\n",
              "newsgroup                                      438\n",
              "workshop-proceedings                           327\n",
              "gordon-quiet-talks-crowned-christ              291\n",
              "beesly-queen-elizabeth                         285\n",
              "gallienne-quest-of-golden-girl                 261\n",
              "fisher-quaker-colonies                         197\n",
              "balbulus-early-life-charlemagne                192\n",
              "shakespeare-as-you-like-it                     180\n",
              "carroll-alice-wonderland                       157\n",
              "karn-snowflakes                                 88\n",
              "infiltrating-open-systems                       76\n",
              "kant-metaphysical-elements-ethics               72\n",
              "chipman-earliest-electromagnetic-instruments    60\n",
              "paper-data-compression                          55\n",
              "paper-search-for-autonomy                       48\n",
              "paper-compact-hash-tables                       45\n",
              "paper-logical-implementation-of-arithmetic      14\n",
              "paper-programming-by-example                    13"
            ]
          },
          "metadata": {
            "tags": []
          },
          "execution_count": 19
        }
      ]
    },
    {
      "cell_type": "markdown",
      "metadata": {
        "id": "EcHXWZNOm-Wy",
        "colab_type": "text"
      },
      "source": [
        "4. Explore the data: check out a few pages from various titles, as a minimum take a look how do a few\n",
        "books and a few CS papers look like."
      ]
    },
    {
      "cell_type": "code",
      "metadata": {
        "id": "Zsd0W5adnCnX",
        "colab_type": "code",
        "colab": {}
      },
      "source": [
        ""
      ],
      "execution_count": 0,
      "outputs": []
    }
  ]
}