{
  "nbformat": 4,
  "nbformat_minor": 0,
  "metadata": {
    "colab": {
      "name": "INFO 370: Homework 7.ipynb",
      "provenance": [],
      "include_colab_link": true
    },
    "kernelspec": {
      "name": "python3",
      "display_name": "Python 3"
    }
  },
  "cells": [
    {
      "cell_type": "markdown",
      "metadata": {
        "id": "view-in-github",
        "colab_type": "text"
      },
      "source": [
        "<a href=\"https://colab.research.google.com/github/Maddic9/stunning-meme/blob/master/INFO_370_Homework_7.ipynb\" target=\"_parent\"><img src=\"https://colab.research.google.com/assets/colab-badge.svg\" alt=\"Open In Colab\"/></a>"
      ]
    },
    {
      "cell_type": "markdown",
      "metadata": {
        "id": "AKjG7-YZ0jAj",
        "colab_type": "text"
      },
      "source": [
        "#INFO370 Problem Set 7: Bag-of-words, and k-NN\n",
        "####Larissa Ho, Madeline Cummins, Michelle Chen"
      ]
    },
    {
      "cell_type": "markdown",
      "metadata": {
        "id": "KvwapUkU1Cg4",
        "colab_type": "text"
      },
      "source": [
        "##1 Explore the data"
      ]
    },
    {
      "cell_type": "code",
      "metadata": {
        "id": "tIKhbb8B1y_4",
        "colab_type": "code",
        "colab": {}
      },
      "source": [
        "import pandas as pd\n",
        "import numpy as np"
      ],
      "execution_count": 0,
      "outputs": []
    },
    {
      "cell_type": "markdown",
      "metadata": {
        "id": "MoRPYoUi1JvE",
        "colab_type": "text"
      },
      "source": [
        "1. Load the data. You may drop size, lines, and pagenr"
      ]
    },
    {
      "cell_type": "code",
      "metadata": {
        "id": "dINSwzQo1K0G",
        "colab_type": "code",
        "outputId": "5ee800b2-f46d-4508-94c4-219d5e0ac22a",
        "colab": {
          "base_uri": "https://localhost:8080/",
          "height": 230
        }
      },
      "source": [
        "!wget https://raw.githubusercontent.com/aj-22/IMT370/master/data/texts.csv\n",
        "\n",
        "df=pd.read_csv(r'/content/texts.csv', sep='\\t')"
      ],
      "execution_count": 0,
      "outputs": [
        {
          "output_type": "stream",
          "text": [
            "--2020-03-09 18:13:05--  https://raw.githubusercontent.com/aj-22/IMT370/master/data/texts.csv\n",
            "Resolving raw.githubusercontent.com (raw.githubusercontent.com)... 151.101.0.133, 151.101.64.133, 151.101.128.133, ...\n",
            "Connecting to raw.githubusercontent.com (raw.githubusercontent.com)|151.101.0.133|:443... connected.\n",
            "HTTP request sent, awaiting response... 200 OK\n",
            "Length: 16476212 (16M) [text/plain]\n",
            "Saving to: ‘texts.csv’\n",
            "\n",
            "texts.csv           100%[===================>]  15.71M  26.0MB/s    in 0.6s    \n",
            "\n",
            "2020-03-09 18:13:06 (26.0 MB/s) - ‘texts.csv’ saved [16476212/16476212]\n",
            "\n"
          ],
          "name": "stdout"
        }
      ]
    },
    {
      "cell_type": "code",
      "metadata": {
        "id": "pdayxSmr1rCW",
        "colab_type": "code",
        "outputId": "b0d675f5-2225-4492-96ed-e77ac78ab3e4",
        "colab": {
          "base_uri": "https://localhost:8080/",
          "height": 279
        }
      },
      "source": [
        "df.head()"
      ],
      "execution_count": 0,
      "outputs": [
        {
          "output_type": "execute_result",
          "data": {
            "text/html": [
              "<div>\n",
              "<style scoped>\n",
              "    .dataframe tbody tr th:only-of-type {\n",
              "        vertical-align: middle;\n",
              "    }\n",
              "\n",
              "    .dataframe tbody tr th {\n",
              "        vertical-align: top;\n",
              "    }\n",
              "\n",
              "    .dataframe thead th {\n",
              "        text-align: right;\n",
              "    }\n",
              "</style>\n",
              "<table border=\"1\" class=\"dataframe\">\n",
              "  <thead>\n",
              "    <tr style=\"text-align: right;\">\n",
              "      <th></th>\n",
              "      <th>name</th>\n",
              "      <th>size</th>\n",
              "      <th>lines</th>\n",
              "      <th>pagenr</th>\n",
              "      <th>text</th>\n",
              "    </tr>\n",
              "  </thead>\n",
              "  <tbody>\n",
              "    <tr>\n",
              "      <th>0</th>\n",
              "      <td>balbulus-early-life-charlemagne</td>\n",
              "      <td>259062</td>\n",
              "      <td>4394</td>\n",
              "      <td>1</td>\n",
              "      <td>\\nTitle: Early Lives of Charlemagne by Eginhar...</td>\n",
              "    </tr>\n",
              "    <tr>\n",
              "      <th>1</th>\n",
              "      <td>balbulus-early-life-charlemagne</td>\n",
              "      <td>259062</td>\n",
              "      <td>4394</td>\n",
              "      <td>2</td>\n",
              "      <td>\\n\\nThe notes, keyed to line numbers in the so...</td>\n",
              "    </tr>\n",
              "    <tr>\n",
              "      <th>2</th>\n",
              "      <td>balbulus-early-life-charlemagne</td>\n",
              "      <td>259062</td>\n",
              "      <td>4394</td>\n",
              "      <td>3</td>\n",
              "      <td>\\n         From a bronze statuette in the Musé...</td>\n",
              "    </tr>\n",
              "    <tr>\n",
              "      <th>3</th>\n",
              "      <td>balbulus-early-life-charlemagne</td>\n",
              "      <td>259062</td>\n",
              "      <td>4394</td>\n",
              "      <td>4</td>\n",
              "      <td>\\n                _A lui finit la dissolution ...</td>\n",
              "    </tr>\n",
              "    <tr>\n",
              "      <th>4</th>\n",
              "      <td>balbulus-early-life-charlemagne</td>\n",
              "      <td>259062</td>\n",
              "      <td>4394</td>\n",
              "      <td>5</td>\n",
              "      <td>public opinion in regard to the meaning of fal...</td>\n",
              "    </tr>\n",
              "  </tbody>\n",
              "</table>\n",
              "</div>"
            ],
            "text/plain": [
              "                              name  ...                                               text\n",
              "0  balbulus-early-life-charlemagne  ...  \\nTitle: Early Lives of Charlemagne by Eginhar...\n",
              "1  balbulus-early-life-charlemagne  ...  \\n\\nThe notes, keyed to line numbers in the so...\n",
              "2  balbulus-early-life-charlemagne  ...  \\n         From a bronze statuette in the Musé...\n",
              "3  balbulus-early-life-charlemagne  ...  \\n                _A lui finit la dissolution ...\n",
              "4  balbulus-early-life-charlemagne  ...  public opinion in regard to the meaning of fal...\n",
              "\n",
              "[5 rows x 5 columns]"
            ]
          },
          "metadata": {
            "tags": []
          },
          "execution_count": 4
        }
      ]
    },
    {
      "cell_type": "code",
      "metadata": {
        "id": "6WmenqDx2uv4",
        "colab_type": "code",
        "outputId": "9830199c-e2de-4f95-da5b-1d96723fb8bd",
        "colab": {
          "base_uri": "https://localhost:8080/",
          "height": 34
        }
      },
      "source": [
        "df.shape"
      ],
      "execution_count": 0,
      "outputs": [
        {
          "output_type": "execute_result",
          "data": {
            "text/plain": [
              "(12924, 5)"
            ]
          },
          "metadata": {
            "tags": []
          },
          "execution_count": 5
        }
      ]
    },
    {
      "cell_type": "markdown",
      "metadata": {
        "id": "V19eTOrJ2K6X",
        "colab_type": "text"
      },
      "source": [
        "2. Ensure that you don't have any missing name, and empty text in your data."
      ]
    },
    {
      "cell_type": "code",
      "metadata": {
        "id": "Z4tzURHI2Lnr",
        "colab_type": "code",
        "outputId": "ef6951e7-7e03-40e6-d5b1-0974037ba840",
        "colab": {
          "base_uri": "https://localhost:8080/",
          "height": 122
        }
      },
      "source": [
        "df.isna().sum()"
      ],
      "execution_count": 0,
      "outputs": [
        {
          "output_type": "execute_result",
          "data": {
            "text/plain": [
              "name      0\n",
              "size      0\n",
              "lines     0\n",
              "pagenr    0\n",
              "text      1\n",
              "dtype: int64"
            ]
          },
          "metadata": {
            "tags": []
          },
          "execution_count": 6
        }
      ]
    },
    {
      "cell_type": "markdown",
      "metadata": {
        "id": "JGlLdJYA25VU",
        "colab_type": "text"
      },
      "source": [
        "3. Create a summary table where you show how many chunks of each book you have in data. Order\n",
        "this by size."
      ]
    },
    {
      "cell_type": "code",
      "metadata": {
        "id": "HAG1qXpr3AUT",
        "colab_type": "code",
        "outputId": "0545b0d1-a471-438c-8a39-4529c1a37ef2",
        "colab": {
          "base_uri": "https://localhost:8080/",
          "height": 298
        }
      },
      "source": [
        "df.name.unique()"
      ],
      "execution_count": 0,
      "outputs": [
        {
          "output_type": "execute_result",
          "data": {
            "text/plain": [
              "array(['balbulus-early-life-charlemagne', 'beesly-queen-elizabeth',\n",
              "       'bible', 'carroll-alice-wonderland',\n",
              "       'chipman-earliest-electromagnetic-instruments',\n",
              "       'cia-world-factbook-1992', 'eckstein-quintus-claudius',\n",
              "       'fisher-quaker-colonies', 'gallienne-quest-of-golden-girl',\n",
              "       'gordon-quiet-talks-crowned-christ', 'hardy-madding-crowd',\n",
              "       'infiltrating-open-systems', 'kant-metaphysical-elements-ethics',\n",
              "       'karn-snowflakes', 'milton-paradise-lost',\n",
              "       'naval-academy-sound-military-decision', 'newsgroup',\n",
              "       'paper-compact-hash-tables', 'paper-data-compression',\n",
              "       'paper-logical-implementation-of-arithmetic',\n",
              "       'paper-programming-by-example', 'paper-search-for-autonomy',\n",
              "       'selected-polish-tales', 'shakespeare-as-you-like-it',\n",
              "       'unamuno-tragic-sense-of-life', 'vaneeden-quest',\n",
              "       'webster-early-european-history', 'why-speech-output',\n",
              "       'workshop-proceedings'], dtype=object)"
            ]
          },
          "metadata": {
            "tags": []
          },
          "execution_count": 7
        }
      ]
    },
    {
      "cell_type": "code",
      "metadata": {
        "id": "4txkxE4V3P-7",
        "colab_type": "code",
        "outputId": "4c9c178e-a94f-44c6-e9a4-c28770c91c4b",
        "colab": {
          "base_uri": "https://localhost:8080/",
          "height": 935
        }
      },
      "source": [
        "df.groupby(\"name\").count()"
      ],
      "execution_count": 0,
      "outputs": [
        {
          "output_type": "execute_result",
          "data": {
            "text/html": [
              "<div>\n",
              "<style scoped>\n",
              "    .dataframe tbody tr th:only-of-type {\n",
              "        vertical-align: middle;\n",
              "    }\n",
              "\n",
              "    .dataframe tbody tr th {\n",
              "        vertical-align: top;\n",
              "    }\n",
              "\n",
              "    .dataframe thead th {\n",
              "        text-align: right;\n",
              "    }\n",
              "</style>\n",
              "<table border=\"1\" class=\"dataframe\">\n",
              "  <thead>\n",
              "    <tr style=\"text-align: right;\">\n",
              "      <th></th>\n",
              "      <th>size</th>\n",
              "      <th>lines</th>\n",
              "      <th>pagenr</th>\n",
              "      <th>text</th>\n",
              "    </tr>\n",
              "    <tr>\n",
              "      <th>name</th>\n",
              "      <th></th>\n",
              "      <th></th>\n",
              "      <th></th>\n",
              "      <th></th>\n",
              "    </tr>\n",
              "  </thead>\n",
              "  <tbody>\n",
              "    <tr>\n",
              "      <th>balbulus-early-life-charlemagne</th>\n",
              "      <td>192</td>\n",
              "      <td>192</td>\n",
              "      <td>192</td>\n",
              "      <td>192</td>\n",
              "    </tr>\n",
              "    <tr>\n",
              "      <th>beesly-queen-elizabeth</th>\n",
              "      <td>285</td>\n",
              "      <td>285</td>\n",
              "      <td>285</td>\n",
              "      <td>285</td>\n",
              "    </tr>\n",
              "    <tr>\n",
              "      <th>bible</th>\n",
              "      <td>1321</td>\n",
              "      <td>1321</td>\n",
              "      <td>1321</td>\n",
              "      <td>1321</td>\n",
              "    </tr>\n",
              "    <tr>\n",
              "      <th>carroll-alice-wonderland</th>\n",
              "      <td>157</td>\n",
              "      <td>157</td>\n",
              "      <td>157</td>\n",
              "      <td>157</td>\n",
              "    </tr>\n",
              "    <tr>\n",
              "      <th>chipman-earliest-electromagnetic-instruments</th>\n",
              "      <td>60</td>\n",
              "      <td>60</td>\n",
              "      <td>60</td>\n",
              "      <td>60</td>\n",
              "    </tr>\n",
              "    <tr>\n",
              "      <th>cia-world-factbook-1992</th>\n",
              "      <td>2822</td>\n",
              "      <td>2822</td>\n",
              "      <td>2822</td>\n",
              "      <td>2822</td>\n",
              "    </tr>\n",
              "    <tr>\n",
              "      <th>eckstein-quintus-claudius</th>\n",
              "      <td>445</td>\n",
              "      <td>445</td>\n",
              "      <td>445</td>\n",
              "      <td>445</td>\n",
              "    </tr>\n",
              "    <tr>\n",
              "      <th>fisher-quaker-colonies</th>\n",
              "      <td>197</td>\n",
              "      <td>197</td>\n",
              "      <td>197</td>\n",
              "      <td>197</td>\n",
              "    </tr>\n",
              "    <tr>\n",
              "      <th>gallienne-quest-of-golden-girl</th>\n",
              "      <td>261</td>\n",
              "      <td>261</td>\n",
              "      <td>261</td>\n",
              "      <td>261</td>\n",
              "    </tr>\n",
              "    <tr>\n",
              "      <th>gordon-quiet-talks-crowned-christ</th>\n",
              "      <td>291</td>\n",
              "      <td>291</td>\n",
              "      <td>291</td>\n",
              "      <td>291</td>\n",
              "    </tr>\n",
              "    <tr>\n",
              "      <th>hardy-madding-crowd</th>\n",
              "      <td>723</td>\n",
              "      <td>723</td>\n",
              "      <td>723</td>\n",
              "      <td>723</td>\n",
              "    </tr>\n",
              "    <tr>\n",
              "      <th>infiltrating-open-systems</th>\n",
              "      <td>76</td>\n",
              "      <td>76</td>\n",
              "      <td>76</td>\n",
              "      <td>76</td>\n",
              "    </tr>\n",
              "    <tr>\n",
              "      <th>kant-metaphysical-elements-ethics</th>\n",
              "      <td>72</td>\n",
              "      <td>72</td>\n",
              "      <td>72</td>\n",
              "      <td>72</td>\n",
              "    </tr>\n",
              "    <tr>\n",
              "      <th>karn-snowflakes</th>\n",
              "      <td>88</td>\n",
              "      <td>88</td>\n",
              "      <td>88</td>\n",
              "      <td>88</td>\n",
              "    </tr>\n",
              "    <tr>\n",
              "      <th>milton-paradise-lost</th>\n",
              "      <td>466</td>\n",
              "      <td>466</td>\n",
              "      <td>466</td>\n",
              "      <td>466</td>\n",
              "    </tr>\n",
              "    <tr>\n",
              "      <th>naval-academy-sound-military-decision</th>\n",
              "      <td>486</td>\n",
              "      <td>486</td>\n",
              "      <td>486</td>\n",
              "      <td>485</td>\n",
              "    </tr>\n",
              "    <tr>\n",
              "      <th>newsgroup</th>\n",
              "      <td>438</td>\n",
              "      <td>438</td>\n",
              "      <td>438</td>\n",
              "      <td>438</td>\n",
              "    </tr>\n",
              "    <tr>\n",
              "      <th>paper-compact-hash-tables</th>\n",
              "      <td>45</td>\n",
              "      <td>45</td>\n",
              "      <td>45</td>\n",
              "      <td>45</td>\n",
              "    </tr>\n",
              "    <tr>\n",
              "      <th>paper-data-compression</th>\n",
              "      <td>55</td>\n",
              "      <td>55</td>\n",
              "      <td>55</td>\n",
              "      <td>55</td>\n",
              "    </tr>\n",
              "    <tr>\n",
              "      <th>paper-logical-implementation-of-arithmetic</th>\n",
              "      <td>14</td>\n",
              "      <td>14</td>\n",
              "      <td>14</td>\n",
              "      <td>14</td>\n",
              "    </tr>\n",
              "    <tr>\n",
              "      <th>paper-programming-by-example</th>\n",
              "      <td>13</td>\n",
              "      <td>13</td>\n",
              "      <td>13</td>\n",
              "      <td>13</td>\n",
              "    </tr>\n",
              "    <tr>\n",
              "      <th>paper-search-for-autonomy</th>\n",
              "      <td>48</td>\n",
              "      <td>48</td>\n",
              "      <td>48</td>\n",
              "      <td>48</td>\n",
              "    </tr>\n",
              "    <tr>\n",
              "      <th>selected-polish-tales</th>\n",
              "      <td>534</td>\n",
              "      <td>534</td>\n",
              "      <td>534</td>\n",
              "      <td>534</td>\n",
              "    </tr>\n",
              "    <tr>\n",
              "      <th>shakespeare-as-you-like-it</th>\n",
              "      <td>180</td>\n",
              "      <td>180</td>\n",
              "      <td>180</td>\n",
              "      <td>180</td>\n",
              "    </tr>\n",
              "    <tr>\n",
              "      <th>unamuno-tragic-sense-of-life</th>\n",
              "      <td>519</td>\n",
              "      <td>519</td>\n",
              "      <td>519</td>\n",
              "      <td>519</td>\n",
              "    </tr>\n",
              "    <tr>\n",
              "      <th>vaneeden-quest</th>\n",
              "      <td>864</td>\n",
              "      <td>864</td>\n",
              "      <td>864</td>\n",
              "      <td>864</td>\n",
              "    </tr>\n",
              "    <tr>\n",
              "      <th>webster-early-european-history</th>\n",
              "      <td>1265</td>\n",
              "      <td>1265</td>\n",
              "      <td>1265</td>\n",
              "      <td>1265</td>\n",
              "    </tr>\n",
              "    <tr>\n",
              "      <th>why-speech-output</th>\n",
              "      <td>680</td>\n",
              "      <td>680</td>\n",
              "      <td>680</td>\n",
              "      <td>680</td>\n",
              "    </tr>\n",
              "    <tr>\n",
              "      <th>workshop-proceedings</th>\n",
              "      <td>327</td>\n",
              "      <td>327</td>\n",
              "      <td>327</td>\n",
              "      <td>327</td>\n",
              "    </tr>\n",
              "  </tbody>\n",
              "</table>\n",
              "</div>"
            ],
            "text/plain": [
              "                                              size  lines  pagenr  text\n",
              "name                                                                   \n",
              "balbulus-early-life-charlemagne                192    192     192   192\n",
              "beesly-queen-elizabeth                         285    285     285   285\n",
              "bible                                         1321   1321    1321  1321\n",
              "carroll-alice-wonderland                       157    157     157   157\n",
              "chipman-earliest-electromagnetic-instruments    60     60      60    60\n",
              "cia-world-factbook-1992                       2822   2822    2822  2822\n",
              "eckstein-quintus-claudius                      445    445     445   445\n",
              "fisher-quaker-colonies                         197    197     197   197\n",
              "gallienne-quest-of-golden-girl                 261    261     261   261\n",
              "gordon-quiet-talks-crowned-christ              291    291     291   291\n",
              "hardy-madding-crowd                            723    723     723   723\n",
              "infiltrating-open-systems                       76     76      76    76\n",
              "kant-metaphysical-elements-ethics               72     72      72    72\n",
              "karn-snowflakes                                 88     88      88    88\n",
              "milton-paradise-lost                           466    466     466   466\n",
              "naval-academy-sound-military-decision          486    486     486   485\n",
              "newsgroup                                      438    438     438   438\n",
              "paper-compact-hash-tables                       45     45      45    45\n",
              "paper-data-compression                          55     55      55    55\n",
              "paper-logical-implementation-of-arithmetic      14     14      14    14\n",
              "paper-programming-by-example                    13     13      13    13\n",
              "paper-search-for-autonomy                       48     48      48    48\n",
              "selected-polish-tales                          534    534     534   534\n",
              "shakespeare-as-you-like-it                     180    180     180   180\n",
              "unamuno-tragic-sense-of-life                   519    519     519   519\n",
              "vaneeden-quest                                 864    864     864   864\n",
              "webster-early-european-history                1265   1265    1265  1265\n",
              "why-speech-output                              680    680     680   680\n",
              "workshop-proceedings                           327    327     327   327"
            ]
          },
          "metadata": {
            "tags": []
          },
          "execution_count": 9
        }
      ]
    },
    {
      "cell_type": "code",
      "metadata": {
        "id": "odeOwDiufzlC",
        "colab_type": "code",
        "colab": {}
      },
      "source": [
        ""
      ],
      "execution_count": 0,
      "outputs": []
    }
  ]
}